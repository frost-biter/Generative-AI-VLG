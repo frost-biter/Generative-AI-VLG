{
  "nbformat": 4,
  "nbformat_minor": 0,
  "metadata": {
    "colab": {
      "provenance": []
    },
    "kernelspec": {
      "name": "python3",
      "display_name": "Python 3"
    },
    "language_info": {
      "name": "python"
    }
  },
  "cells": [
    {
      "cell_type": "code",
      "source": [
        "import numpy as np\n",
        "import pandas as pd\n",
        "import cv2\n",
        "import tensorflow as tf\n",
        "from sklearn.model_selection import train_test_split\n",
        "from keras.layers import Dense, Activation, Dropout, BatchNormalization, Flatten\n",
        "from tensorflow.keras.layers import Conv1D, MaxPooling1D, Add, Input\n",
        "from tensorflow.keras.models import Model\n",
        "from pydrive.auth import GoogleAuth\n",
        "from pydrive.drive import GoogleDrive\n",
        "from google.colab import auth\n",
        "from oauth2client.client import GoogleCredentials\n"
      ],
      "metadata": {
        "id": "McCThvPEMJBG"
      },
      "execution_count": 5,
      "outputs": []
    },
    {
      "cell_type": "code",
      "source": [
        "train_file_id = '1JcAvFAmCrYtlpYUFiR3gTUX5CizmjoJv'\n",
        "test_file_id = '1UMe6kjf4SEuHzxSmrg-ZyKA-ZOWU5WOz'"
      ],
      "metadata": {
        "id": "KntXMqesMKjJ"
      },
      "execution_count": 6,
      "outputs": []
    },
    {
      "cell_type": "code",
      "source": [
        "auth.authenticate_user()\n",
        "gauth = GoogleAuth()\n",
        "gauth.credentials = GoogleCredentials.get_application_default()\n",
        "drive = GoogleDrive(gauth)\n",
        "\n",
        "downloaded_train = drive.CreateFile({'id': train_file_id})\n",
        "downloaded_train.GetContentFile('train.csv')\n",
        "downloaded_test = drive.CreateFile({'id': test_file_id})\n",
        "downloaded_test.GetContentFile('test.csv')\n",
        "\n",
        "df = pd.read_csv('train.csv')\n",
        "df2 = pd.read_csv('test.csv')"
      ],
      "metadata": {
        "id": "jBGLC9ysMObq"
      },
      "execution_count": 7,
      "outputs": []
    },
    {
      "cell_type": "code",
      "source": [
        "# x = df.drop('labels',axis = 1)\n",
        "# y = df['labels']\n",
        "x_train = df.drop('labels', axis=1)\n",
        "y_train = df['labels']\n",
        "x_id = df2['id']\n",
        "x_test = df2.drop('id', axis=1)"
      ],
      "metadata": {
        "id": "lRObo_9YMQqb"
      },
      "execution_count": 8,
      "outputs": []
    },
    {
      "cell_type": "code",
      "source": [
        "# x_train, x_test, y_train, y_test = train_test_split(x, y, test_size=0.2, random_state=42)"
      ],
      "metadata": {
        "id": "bhjR4vwaMgUm"
      },
      "execution_count": 9,
      "outputs": []
    },
    {
      "cell_type": "code",
      "execution_count": 10,
      "metadata": {
        "id": "se25etkZHUH_"
      },
      "outputs": [],
      "source": [
        "input_shape = (1200, 1)\n",
        "num_classes = 2\n",
        "\n",
        "cnn_inputs = Input(shape=input_shape)\n",
        "x = Conv1D(filters=64, kernel_size=3, activation='relu')(cnn_inputs)\n",
        "x = MaxPooling1D(pool_size=2)(x)\n",
        "x = Dense(units=2400, activation='relu')(x)\n",
        "x = Dense(units=1200, activation='relu')(x)\n",
        "x = Dense(units=600, activation='relu')(x)\n",
        "x = Dense(units=300, activation='relu')(x)\n",
        "x = Flatten()(x)\n",
        "cnn_outputs = Dense(units=300, activation='relu')(x)\n",
        "\n",
        "def residual_block(inputs, filters, kernel_size):\n",
        "    x = Conv1D(filters=filters, kernel_size=kernel_size, activation='relu', padding='same')(inputs)\n",
        "    x = Conv1D(filters=filters, kernel_size=kernel_size, activation='relu', padding='same')(x)\n",
        "    x = Add()([x, inputs])\n",
        "    x = MaxPooling1D(pool_size=2)(x)\n",
        "    return x\n",
        "\n",
        "residual_inputs = Reshape((-1, 1))(cnn_outputs)\n",
        "x = residual_block(residual_inputs, filters=50, kernel_size=4)\n",
        "x = Conv1D(filters=50, kernel_size=4, activation='relu', padding='same')(x)\n",
        "x = MaxPooling1D(pool_size=3)(x)\n",
        "x = residual_block(x, filters=50, kernel_size=4)\n",
        "x = residual_block(x, filters=50, kernel_size=4)\n",
        "x = residual_block(x, filters=50, kernel_size=4)\n",
        "x = Flatten()(x)\n",
        "x = Dense(units=100, activation='relu')(x)\n",
        "x = Dense(units=10, activation='relu')(x)\n",
        "outputs = Dense(units=1, activation='sigmoid')(x)\n"
      ]
    },
    {
      "cell_type": "code",
      "source": [
        "model = Model(inputs=cnn_inputs, outputs=outputs)\n",
        "model.compile(optimizer='adam', loss='binary_crossentropy', metrics=['accuracy'])\n",
        "model.fit(x_train, y_train, batch_size=32, epochs=25)"
      ],
      "metadata": {
        "colab": {
          "base_uri": "https://localhost:8080/"
        },
        "id": "q13KfBZTMWAw",
        "outputId": "0b004daa-b4a9-41a8-df96-1c1b47ef7795"
      },
      "execution_count": null,
      "outputs": [
        {
          "output_type": "stream",
          "name": "stdout",
          "text": [
            "Epoch 1/25\n",
            "  1/165 [..............................] - ETA: 45:00 - loss: 0.6929 - accuracy: 0.4688"
          ]
        }
      ]
    },
    {
      "cell_type": "code",
      "source": [
        "predictions = model.predict(x_test)\n",
        "predicted_labels = (predictions > 0.5).astype(int)\n",
        "result_df = pd.DataFrame({'id': x_id, 'labels': predicted_labels.flatten()})\n",
        "result_df.to_csv('predictions.csv', index=False)\n",
        "from google.colab import files\n",
        "files.download('predictions.csv')"
      ],
      "metadata": {
        "id": "rlZQQo85MX4E"
      },
      "execution_count": null,
      "outputs": []
    },
    {
      "cell_type": "code",
      "source": [],
      "metadata": {
        "id": "Of88qBTnNOsN"
      },
      "execution_count": null,
      "outputs": []
    }
  ]
}